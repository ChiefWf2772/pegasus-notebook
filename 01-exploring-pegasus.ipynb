{
 "cells": [
  {
   "cell_type": "markdown",
   "metadata": {},
   "source": [
    "# Exploring the Topology of Pegasus\n",
    "D-Wave's newest quantum computer, Advantage, introduces a quantum processing unit (QPU) with a new architecture: the Pegasus family of topologies. This notebook explains the Pegasus topology and demonstrates its enhanced performance over QPUs of the previous generation used in the DW-2000Q system. \n",
    "    \n",
    "1. [The Pegasus Advantage](#The-Pegasus-Advantage) shows the differences between the previous and new topologies and their usefulness.\n",
    "2. [Navigating the Topology](#Navigating-the-Topology) demonstrates Ocean tools that help you use this QPU.\n",
    "3. [Example Problem: RAN-K](#Example-Problem:-RAN-K) solves a hard problem on two generations of systems.\n",
    "\n",
    "This notebook should familiarize you with the new Pegasus topology and the tools to use it.\n",
    "\n",
    "<img src=\"images/anim.gif\" width=200x/>"
   ]
  },
  {
   "cell_type": "markdown",
   "metadata": {},
   "source": [
    "**New to Jupyter Notebooks?** JNs are divided into text or code cells. Pressing the **Run** button in the menu bar moves to the next cell. Code cells are marked by an \"In: \\[\\]\" to the left; when run, an asterisk displays until code completion: \"In: \\[\\*\\]\"."
   ]
  },
  {
   "cell_type": "markdown",
   "metadata": {},
   "source": [
    "# The Pegasus Advantage\n",
    "\n",
    "The Advantage system is distinct from all previous generations of D-Wave quantum computers in the technological advance made by its new QPU architecture. \n",
    "\n",
    "The D-Wave QPU is a lattice of interconnected qubits. While some qubits connect to others via couplers, D-Wave QPUs are not fully connected. Instead, the qubits interconnect in an topology: Chimera for the 2000Q and Pegasus for the Advantage.\n",
    "\n",
    "This layout of the D-Wave QPU is critical to translating a QUBO or Ising objective function into a format that a D-Wave system can solve."
   ]
  },
  {
   "cell_type": "markdown",
   "metadata": {},
   "source": [
    "## Minor-Embedding: Mapping a Problem to Qubits\n",
    "\n",
    "<div class=\"alert alert-warning\" role=\"alert\" style=\"margin: 10px\">Note: If you already understand how problems are mapped to the D-Wave system, please skip ahead to the next text cell.</div>\n",
    " \n",
    "D-Wave systems solve binary quadratic models (BQM), the Ising model traditionally used in statistical mechanics and its computer-science equivalent, the quadratic unconstrained binary optimization (QUBO) problem. Given $N$ variables $x_1,...,x_N$, where each variable $x_i$ can have binary values $0$ or $1$, the system finds assignments of values that minimize\n",
    "\n",
    "$\\sum_i^N q_ix_i + \\sum_{i<j}^N q_{i,j}x_i  x_j$,\n",
    "\n",
    "where $q_i$ and $q_{i,j}$ are configurable (linear and quadratic) coefficients. \n",
    "\n",
    "Such objective functions can be represented by graphs. A graph comprises a collection of nodes (representing variables) and the connections between them (edges). For example, a Boolean AND, $z \\Leftrightarrow x_1 \\wedge x_2$, expressed in QUBO formulation as, \n",
    "\n",
    "$x_1 x_2 - 2(x_1+x_2)z +3z$, \n",
    "\n",
    "is represented by the graph:\n",
    "\n",
    "<img src=\"images/embedding_and.png\" width=300x/>\n",
    "\n",
    "To formulate a problem for the D-Wave system, by programing $q_i$ and $q_{i,j}$ so that assignments of $x_1,...,x_N$ also represent solutions to the problem, requires that the problem graph be mapped to the QPU. [Minor embedding](#https://docs.ocean.dwavesys.com/en/stable/concepts/embedding.html#embedding-sdk) maps problem variables ($x_1, x_2, z$ for the AND gate) to the indexed qubits of the D-Wave QPU, with node values represented by qubit biases and edge values by coupler strengths.\n",
    "\n",
    "Were qubits on a QPU fully connected, with every qubit coupled to every other qubit, you could simply map each problem variable (graph node) to a qubit and each quadratic interaction (graph edge) to a coupler. But with sparser QPU topologies, you might need to represent some variables as *chains* of two or more qubits in order to couple their representative qubits. \n",
    "\n",
    "For example, the AND is represented by a $K_3$ fully connected graph (left graph in the figure below), and that cannot be mapped directly to a Chimera topology. Instead, a chain using two of four not-fully-connected qubits (the  middle graph below) is used to represent a single variable (right graph), here qubit 0 and qubit 4 to represent variable $z$.\n",
    "\n",
    "<img src=\"images/embedding_chimera_and.png\" width=500x/>\n",
    "\n",
    "The strength of the coupler between qubits 0 and 4, which represents\n",
    "variable $z$, is set to correlate the qubits strongly, so that in most\n",
    "solutions they have a single value for $z$. \n",
    "\n",
    "Ocean software provides tools that handle minor-embedding. One such minor-embedding on a D-Wave 2000Q is displayed below using the Ocean software's [dwave-inspector](#https://docs.ocean.dwavesys.com/en/stable/docs_inspector/sdk_index.html) tool. The problem graph, shown on the left, is embedded in four qubits , shown on the right against a background of the Chimera topology. The variable highlighted in dark magenta is represented by two qubits, numbers 251 and 253 in this particular embedding.\n",
    "\n",
    "<img src=\"images/embedding_3var4qubits.png\" width=500x/>\n",
    "\n",
    "The size and complexity of problems that can be submitted to a quantum computer depends on the QPU's *working graph*, the set of qubits and couplers that are available for computation. Adding qubits expands the QPU's range, obviously, but  denser connectivity reduces the wasting of qubits in representing single variables with chains of multiple qubits, which can also affect solution quality. "
   ]
  },
  {
   "cell_type": "markdown",
   "metadata": {},
   "source": [
    "The Pegasus topology enables the Advantage QPU to more than double the number of available qubits compared to the 2000Q, and the working graph is denser, meaning each qubit is coupled to a greater number of neighboring qubits. "
   ]
  },
  {
   "cell_type": "markdown",
   "metadata": {},
   "source": [
    "## More Qubits\n",
    "This subsection looks at the straightforward increase in qubit numbers between the new and previous generation QPUs. \n",
    "\n",
    "It also introduces useful Ocean software tools that let you work with the QPU topology locally on your computer. \n",
    "\n",
    "[dwave_networkx](#https://docs.ocean.dwavesys.com/en/stable/docs_dnx/sdk_index.html) is an extension of [NetworkX](#http://networkx.github.io/)&mdash;a Python language package for exploration and analysis of networks and network algorithms&mdash;for D-Wave Systems. It provides tools for working with Chimera and Pegasus graphs and implementations of graph-theory algorithms on the D-Wave system and other binary quadratic model samplers. For example, it provides functionality to create Chimera and Pegasus lattices of varying sizes."
   ]
  },
  {
   "cell_type": "code",
   "execution_count": null,
   "metadata": {},
   "outputs": [],
   "source": [
    "import dwave_networkx as dnx\n",
    "\n",
    "chimera_16 = dnx.chimera_graph(16)\n",
    "pegasus_16 = dnx.pegasus_graph(16)\n",
    "\n",
    "print(\"Qubits in full working graph: \\n    Chimera: {} \\n    Advantage: {}\".format(len(chimera_16.nodes), len(pegasus_16.nodes)))"
   ]
  },
  {
   "cell_type": "markdown",
   "metadata": {},
   "source": [
    "Notice the difference in density of qubits and connectivity between the two $16x16$ lattices. "
   ]
  },
  {
   "cell_type": "code",
   "execution_count": null,
   "metadata": {},
   "outputs": [],
   "source": [
    "import matplotlib.pyplot as plt\n",
    "%matplotlib inline\n",
    "\n",
    "fig, ax = plt.subplots(1, 2, figsize=(14,6))\n",
    "\n",
    "dnx.draw_chimera(chimera_16, ax=ax[0], node_size=5, node_color='g')\n",
    "ax[0].set_title('Chimera C16', fontsize=18)\n",
    "\n",
    "dnx.draw_pegasus(pegasus_16, ax=ax[1], node_size=5, node_color='g')\n",
    "ax[1].set_title('Pegasus P16', fontsize=18)"
   ]
  },
  {
   "cell_type": "markdown",
   "metadata": {},
   "source": [
    "Intuitively, you can scale up the size of problems embedded on a QPU more if they are sparse because these come closer to representing a string of variables connected head to tail by a similar string of qubits.\n",
    "\n",
    "The next cells define a couple of functions used throughout this section:\n",
    "\n",
    "* `generate_ran1` generates a problem with `variables` number of variables and `interactions` density of interactions.\n",
    "* `try_embedding` tries to embed a problem in both the Chimera and Pegasus graphs. "
   ]
  },
  {
   "cell_type": "code",
   "execution_count": null,
   "metadata": {},
   "outputs": [],
   "source": [
    "import networkx as nx\n",
    "import dimod \n",
    "\n",
    "def generate_ran1(variables, interactions, draw=True):\n",
    "    \n",
    "    G = nx.random_regular_graph(n=variables, d=interactions)\n",
    "    bqm = dimod.generators.random.ran_r(1, G)\n",
    "    \n",
    "    if draw:\n",
    "        plt.figure(figsize=(7, 7))\n",
    "        nx.draw_networkx(G, pos=nx.spring_layout(G), with_labels=False, node_size=25) \n",
    "        plt.show()\n",
    "            \n",
    "    return bqm\n",
    "\n",
    "bqm = generate_ran1(100, 2)"
   ]
  },
  {
   "cell_type": "code",
   "execution_count": null,
   "metadata": {},
   "outputs": [],
   "source": [
    "import minorminer\n",
    "\n",
    "def try_embedding(bqm, timeout=60, tries=2):\n",
    "    \n",
    "    max_len = {}\n",
    "    for topology in [('Chimera', chimera_16), ('Pegasus', pegasus_16)]:\n",
    "        \n",
    "        embedding = minorminer.find_embedding(bqm.quadratic, \n",
    "                                          topology[1].edges, \n",
    "                                          timeout=timeout, \n",
    "                                          tries=tries)\n",
    "        if not embedding:\n",
    "            print(\"{}: failed to embed.\".format(topology[0]))\n",
    "        else:\n",
    "            max_len[topology[0]] = max([len(embedding[n]) for n in embedding])\n",
    "            print(\"{}: found embedding with longest chain of {} qubits.\".format(topology[0], max_len[topology[0]]))\n",
    "            \n",
    "    return max_len\n",
    "\n",
    "answer = try_embedding(bqm, timeout=20, tries=2)"
   ]
  },
  {
   "cell_type": "markdown",
   "metadata": {},
   "source": [
    "Try embedding problems with sizes that range from a quarter of the qubits in a full Chimera graph to nearly all the qubits. \n",
    "\n",
    "<div class=\"alert alert-warning\" role=\"alert\" style=\"margin: 10px\">Note: In this and similar code cells below, you can shorten the runtime by setting a lower value to the `problems` parameter, representing the number of problems of each size, and/or the list different sizes, `variables`, set for the loop.</div>"
   ]
  },
  {
   "cell_type": "code",
   "execution_count": null,
   "metadata": {},
   "outputs": [],
   "source": [
    "interactions = 2\n",
    "problems = 2\n",
    "\n",
    "draw_problem = True  # Change to false to not display problem graphs \n",
    "\n",
    "for variables in [500, 1000, 2000]:\n",
    "        \n",
    "    for problem in range(problems):\n",
    "        \n",
    "        print(\"\\nProblem {} of {} for {} variables:\".format(problem + 1, \n",
    "                                                            problems, \n",
    "                                                            variables))\n",
    "        \n",
    "        bqm = generate_ran1(variables, interactions, draw_problem)        \n",
    "        try_embedding(bqm)"
   ]
  },
  {
   "cell_type": "markdown",
   "metadata": {},
   "source": [
    "In fact, you see that even for sparse problems, connectivity plays a crucial role in enabling you to embed large problems in a QPU. Higher connectivity is where the power of the Pegasus topology lies. "
   ]
  },
  {
   "cell_type": "markdown",
   "metadata": {},
   "source": [
    "## Higher Connectivity\n",
    "\n",
    "To properly appreciate the contribution of increasing the density of the QPU topology, increase the sparse problem's connectivity from 2 to just 3 edges per node:\n",
    "\n",
    "<div class=\"alert alert-warning\" role=\"alert\" style=\"margin: 10px\">Note: You can shorten the runtime by removing values from the `variables` list and/or setting the `problems` variable to 1.</div>"
   ]
  },
  {
   "cell_type": "code",
   "execution_count": null,
   "metadata": {},
   "outputs": [],
   "source": [
    "import pandas as pd\n",
    "\n",
    "interactions = 3\n",
    "problems = 2\n",
    "\n",
    "draw_problem = True  # Change to false to not display problem graphs \n",
    "\n",
    "row = []\n",
    "df_columns = [\"Variables\", \"Problem\", \"Longest Chain\"]\n",
    "\n",
    "for variables in [100, 200, 400, 800]:\n",
    "        \n",
    "    for problem in range(problems):\n",
    "        \n",
    "        print(\"\\nProblem {} of {} for {} variables:\".format(problem + 1, \n",
    "                                                            problems, \n",
    "                                                            variables))\n",
    "        \n",
    "        bqm = generate_ran1(variables, interactions, draw_problem)\n",
    "        \n",
    "        row.append([variables, problem, try_embedding(bqm)])\n",
    "\n",
    "results = pd.DataFrame(row, columns=df_columns)"
   ]
  },
  {
   "cell_type": "code",
   "execution_count": null,
   "metadata": {},
   "outputs": [],
   "source": [
    "results"
   ]
  },
  {
   "cell_type": "markdown",
   "metadata": {},
   "source": [
    "Note the fast growth of chain lengths even for such sparse problems. \n",
    "\n",
    "Try raising the density of connectivity for a relatively small, 100-variables problem:"
   ]
  },
  {
   "cell_type": "code",
   "execution_count": null,
   "metadata": {},
   "outputs": [],
   "source": [
    "variables = 100\n",
    "problems = 2\n",
    "\n",
    "draw_problem = True  # Change to false to not display problem graphs \n",
    "\n",
    "row = []\n",
    "df_columns = [\"Interaction\", \"Problem\", \"Longest Chain\"]\n",
    "\n",
    "for interactions in range(2, 16, 2):\n",
    "        \n",
    "    for problem in range(problems):\n",
    "        \n",
    "        print(\"\\nProblem {} of {} for {} interactions:\".format(problem + 1, \n",
    "                                                            problems, \n",
    "                                                            interactions))\n",
    "        \n",
    "        bqm = generate_ran1(variables, interactions, draw_problem)\n",
    "        \n",
    "        row.append([interactions, problem, try_embedding(bqm)])\n",
    "\n",
    "results = pd.DataFrame(row, columns=df_columns)"
   ]
  },
  {
   "cell_type": "markdown",
   "metadata": {},
   "source": [
    "Plot the results:"
   ]
  },
  {
   "cell_type": "code",
   "execution_count": null,
   "metadata": {},
   "outputs": [],
   "source": [
    "fig, ax = plt.subplots()\n",
    "rects1 = ax.bar(results[\"Interaction\"], results[\"Longest Chain\"].apply(lambda x: x['Chimera']), 0.35, label='Chimera')\n",
    "rects2 = ax.bar(results[\"Interaction\"], results[\"Longest Chain\"].apply(lambda x: x['Pegasus']), 0.35, label='Pegasus')\n",
    "\n",
    "ax.set_ylabel('Longest Chain')\n",
    "ax.set_xlabel('Interactions')\n",
    "ax.set_title('Longest Chains for Each Topology')\n",
    "ax.legend()"
   ]
  },
  {
   "cell_type": "markdown",
   "metadata": {},
   "source": [
    "The preceding cells have demonstrated two important points: \n",
    "\n",
    "* A topology with denser connectivity enables you to scale up your problems in terms of both the number of variables and the density of the variables' interactions.\n",
    "* Real-time application must take the computation time of minor-embedding heuristic algorithms into consideration. "
   ]
  },
  {
   "cell_type": "markdown",
   "metadata": {},
   "source": [
    "## Clique Embeddings\n",
    "Clique embeddings can be very useful. A minor-embedding for a $K_n$ fully connected graph can be used for all minors of that graph. This means that if your application needs to submit a series of problems of up to size $n$ to the QPU, if you have an embedding for the $K_n$ graph on the QPU, you can simply reuse that embedding for all your problems, and save the computation time during the execution of your application.  \n",
    "\n",
    "As an intuitive example, the $K_3$ minor-embedding explained above can be reused to embed a two-variable problem, $5x_1x_2$ by not setting the values of variable $z$ and its couplers:\n",
    "\n",
    "<img src=\"images/embedding_clique_k3_2vars.png\" width=500x/>\n",
    "\n",
    "\n",
    "<div class=\"alert alert-warning\" role=\"alert\" style=\"margin: 10px\">Note that if your problems are sparse, using a clique embedding can be very wasteful, needlessly restricting the number of variables you can scale up to.</div>"
   ]
  },
  {
   "cell_type": "markdown",
   "metadata": {},
   "source": [
    "### Embedding in a Single Unit-Cell ($K_{4,4}$)\n",
    "Many problems have repetitive structures or can be formulated with repeated, small elements; for example, a problem expressed using Boolean elements such as the AND expression above. In such cases, it's advantageous to minor-embed the problem in a way that exploits the lattice structure of the QPU.  \n",
    "\n",
    "The Chimera topology's simpler structure is based on a $16x16$ grid of *unit cells*, called *C16*, each with four horizontal qubits connected to four vertical qubits via couplers. \n",
    "\n",
    "The figure below shows a $3x3$ lattice (a C3) of Chimera unit cells.\n",
    "<img src=\"images/chimera.png\" width=300x/>\n",
    "If repeated structures of a problem can be embedded in a unit cell, you might then be able to duplicate the embedding across the lattice's unit cells. "
   ]
  },
  {
   "cell_type": "markdown",
   "metadata": {},
   "source": [
    "Try minor-embedding cliques of varying sizes into a Chimera unit cell and its counterpart structure in the Pegasus topology, a $K_{4,4}$  biclique, which is explained in the next section."
   ]
  },
  {
   "cell_type": "code",
   "execution_count": null,
   "metadata": {},
   "outputs": [],
   "source": [
    "chimera_1 = dnx.chimera_graph(1)\n",
    "pegasus_k44 = dnx.pegasus_graph(2, node_list=[4, 5, 6, 7, 40, 41, 42, 43])\n",
    "\n",
    "fig, ax = plt.subplots(1, 2, figsize=(16,8))\n",
    "\n",
    "dnx.draw_chimera(chimera_1, ax=ax[0], node_size=1000, with_labels=True, node_color='g')\n",
    "ax[0].set_title('Chimera C1', fontsize=18)\n",
    "\n",
    "dnx.draw_pegasus(pegasus_k44, ax=ax[1], node_size=1000, with_labels=True, node_color='g')\n",
    "ax[1].set_title('Pegasus $K_{4,4}$', fontsize=18)"
   ]
  },
  {
   "cell_type": "code",
   "execution_count": null,
   "metadata": {
    "scrolled": true
   },
   "outputs": [],
   "source": [
    "from dwave.embedding import *\n",
    "\n",
    "for variables in range(2, 7):\n",
    "    \n",
    "    try:\n",
    "        embedding = chimera.find_clique_embedding(variables, 1, target_edges=chimera_1.edges)\n",
    "        print(\"Chimera: embedded {} variables with longest chain of {}.\".format(variables, max([len(chain) for chain in embedding.values()])))\n",
    "    except ValueError:\n",
    "        print(\"Chimera: embedding {} variables failed.\".format(variables))\n",
    "\n",
    "    try:\n",
    "        #embedding = pegasus.find_clique_embedding(variables, target_graph=pegasus_k44)\n",
    "        embedding = minorminer.find_embedding(nx.complete_graph(variables), pegasus_k44.edges)\n",
    "        print(\"Pegasus: embedded {} variables with longest chain of {}.\\n\".format(variables, max([len(chain) for chain in embedding.values()])))\n",
    "    except ValueError:\n",
    "        print(\"Pegasus: embedding {} variables failed.\\n\".format(variables))"
   ]
  },
  {
   "cell_type": "markdown",
   "metadata": {},
   "source": [
    "Below are [dwave-inspector](#https://docs.ocean.dwavesys.com/en/stable/docs_inspector/sdk_index.html) images of a $K_{5,5}$ clique embedded in the Chimera topology and a $K_{6,6}$ clique embedded in the Pegasus topology:\n",
    "\n",
    "<img src=\"images/k_55_chimera.png\" width=400x/>\n",
    "\n",
    "<img src=\"images/k_66_pegasus.png\" width=400x/>"
   ]
  },
  {
   "cell_type": "markdown",
   "metadata": {},
   "source": [
    "### Largest Cliques"
   ]
  },
  {
   "cell_type": "markdown",
   "metadata": {},
   "source": [
    "For a given maximum chain length, you can embed a clique of the following sizes in Pegasus and Chimera graphs (for working graphs with 100% yield; typical QPUs have lower yield):\n",
    "\n",
    "| Chain Length | 1 | 2  | 3  | 4  | 5  | 6  | 7  | 8  | 9  | 10  | 11  | 12  |\n",
    "|--------------|---|----|----|----|----|----|----|----|----|-----|-----|-----|\n",
    "| Chimera      | 2 | 4  | 8  | 12 | 16 | 20 | 24 | 28 | 32 | 36  | 40  | 44  | \n",
    "| Pegasus      | 4 | 10 | 20 | 30 | 42 | 54 | 66 | 78 | 90 | 102 | 114 | 126 |    \n",
    "\n"
   ]
  },
  {
   "cell_type": "markdown",
   "metadata": {},
   "source": [
    "You can mostly leave minor-embedding to Ocean, but sometimes some manual adjustments can enhance the performance for your problem. The next section describes the topology in more detail.   "
   ]
  },
  {
   "cell_type": "markdown",
   "metadata": {},
   "source": [
    "# Navigating the Topology\n",
    "You've seen the importance of connectivity. The connectivity of a QPU comes from its couplers. A 2000Q QPU has X couplers; an Advantage QPU has Y couplers. \n",
    "\n",
    "You have also seen the lattice structure of the Chimera QPU and an example of its relevance for embedding some classes of problems such as those formulated with Boolean gates.\n",
    "\n",
    "These two are faces of one coin: lattice structure is determined by qubit couplings which are enabled by the structure.  "
   ]
  },
  {
   "cell_type": "markdown",
   "metadata": {},
   "source": [
    "The Chimera topology is simple to visualize and understanding it goes a long way to grasping the more complex Pegasus topology. \n",
    "\n",
    "Qubits in the Chimera topology are “oriented” on the QPU vertically or horizontally, and coupled by one of two categories of couplers:\n",
    "\n",
    "* *Internal couplers* connect pairs of orthogonal (with opposite orientation) qubits. Each qubit is connected via internal coupling to 4 other qubits.\n",
    "\n",
    "* *External couplers* connect colinear pairs of qubits&mdash;pairs of parallel qubits in the same row or column.\n",
    "\n",
    "In the figure below, green circles at the intersections of qubits signify internal couplers; external couplers, shown as connected blue circles, couple vertical qubits to adjacent vertical qubits (not shown in this single-row lattice) and horizontal qubits to adjacent horizontal qubits. The green horizontal qubit in the center couples internally to four vertical qubits, bolded black, in its own unit cell and to the two blue horizontal qubits in adjacent unit cells. \n",
    "\n",
    "<img src=\"images/chimera_couplers.png\" width=500x/>\n",
    "\n",
    "Chimera qubits are characterized as having:\n",
    "\n",
    "* Nominal length 4&mdash;each qubit is connected to 4 orthogonal qubits through internal couplers.\n",
    "* Degree 6&mdash;each qubit is coupled to 6 different qubits."
   ]
  },
  {
   "cell_type": "markdown",
   "metadata": {},
   "source": [
    "Plot four Chimera unit cells and notice the couplings: internal couplers connecting vertical and horizontal qubits of each cell (short edges) and external couplers connecting similarly oriented qubits of different unit cells."
   ]
  },
  {
   "cell_type": "code",
   "execution_count": null,
   "metadata": {},
   "outputs": [],
   "source": [
    "chimera_2 = dnx.chimera_graph(2)\n",
    "    \n",
    "dnx.draw_chimera(chimera_2, with_labels=True, node_size=500, node_color='g')\n",
    "plt.show()"
   ]
  },
  {
   "cell_type": "markdown",
   "metadata": {},
   "source": [
    "When exploiting the underlying structure of the topology it can be helpful to use a coordinate system based on the structure. In the preceding depictions, qubits are shown with an indexical label scheme, but for navigating you might prefer coordinates based on qubit position in a unit cell and the cell's place in the latticed.\n",
    "\n",
    "For an m-by-n Chimera lattice, connections can be expressed using a node-indexing notation $(i,j,u,k)$ for each node.\n",
    "\n",
    "* $(i,j)$ indexes the (row, column) of the Chimera tile. $i$ must be between $0$ and $m-1$, inclusive, and $j$ must be between $0$ and $n-1$, inclusive.\n",
    "* $u=0$ indicates the left-hand nodes in the tile, and $u=1$ indicates the right-hand nodes.\n",
    "* $k=0,1,…,t-1$ indexes nodes within either the left- or right-hand shores of a tile.\n",
    "\n",
    "For the C2 Chimera lattice above, show the *Chimera coordinate* of the second vertical and horizontal qubit in each cell:"
   ]
  },
  {
   "cell_type": "code",
   "execution_count": null,
   "metadata": {},
   "outputs": [],
   "source": [
    "for i in range(1, 32, 4):\n",
    "    print(\"Qubit {} has Chimera coordinates {}.\".format(i, chimera_2.nodes(data=True)[i]['chimera_index']))"
   ]
  },
  {
   "cell_type": "markdown",
   "metadata": {},
   "source": [
    "Ocean utilities are available to translate between coordinates."
   ]
  },
  {
   "cell_type": "code",
   "execution_count": null,
   "metadata": {},
   "outputs": [],
   "source": [
    "coords = dnx.chimera_coordinates(2)\n",
    "\n",
    "i = 13\n",
    "c = (1, 1, 0, 1)\n",
    "\n",
    "print(\"Qubit {} has Chimera coordinates {}.\".format(i, coords.linear_to_chimera(i)))\n",
    "print(\"Chimera coordinates {} designate qubit {}.\".format(c, coords.chimera_to_linear(c)))"
   ]
  },
  {
   "cell_type": "markdown",
   "metadata": {},
   "source": [
    "Pegasus qubits are also oriented on the QPU vertically or horizontally but they are coupled by one of three categories of couplers:\n",
    "\n",
    "* Internal couplers connect pairs of orthogonal (with opposite orientation) qubits. Each qubit is connected via internal coupling to 12 other qubits.\n",
    "\n",
    "  In comparison with Chimera, internal coupling in Pegasus connects each qubit\n",
    "  to qubits of opposite orientation in repeated substructures that include more\n",
    "  than a the internal couplings of a single Chimera unit cell.\n",
    "\n",
    "* External couplers connect vertical qubits to adjacent vertical qubits and horizontal qubits to adjacent horizontal qubits.\n",
    "\n",
    "* *Odd couplers* connect similarly aligned pairs of qubits in the same Chimera unit cell, a vertical qubit to another vertical qubit and a horizontal qubit to another horizontal qubit.\n",
    "\n",
    "The figure below provides a helpful way to envision a recurring structure of the Pegasus topology, similar to the unit cells of Chimera: the division of\n",
    "internal couplings into $K_{4,4}$ bipartite graphs abstracted as three layers of\n",
    "Chimera lattices. In this abstraction, each qubit forms part, through its\n",
    "internal couplers, of a Chimera unit cell in one layer (translucent green square) while\n",
    "additionally coupling to four qubits of a unit cell in a second layer (translucent blue square)\n",
    "and two qubits each of two units cells in a third layer (translucent pink squares).\n",
    "\n",
    "<img src=\"images/pegasus_zlayered_unitcells.png\" width=400x/>\n",
    "\n",
    "Pegasus qubits are characterized as having:\n",
    "\n",
    "* Nominal length 12.\n",
    "* Degree 15."
   ]
  },
  {
   "cell_type": "markdown",
   "metadata": {},
   "source": [
    "Plot a P2 Pegasus graph."
   ]
  },
  {
   "cell_type": "code",
   "execution_count": null,
   "metadata": {},
   "outputs": [],
   "source": [
    "pegasus_2 = dnx.pegasus_graph(2)\n",
    "    \n",
    "dnx.draw_pegasus(pegasus_2, with_labels=True, node_size=500, node_color='g')\n",
    "plt.show()"
   ]
  },
  {
   "cell_type": "markdown",
   "metadata": {},
   "source": [
    "For one random qubit, horizontal qubit 36, plot the internally coupled qubits of each of the three layers of unit cells, plus its oddly coupled qubit. First identify the adjacent (coupled) qubits. "
   ]
  },
  {
   "cell_type": "code",
   "execution_count": null,
   "metadata": {},
   "outputs": [],
   "source": [
    "print(\"Qubit 36 is coupled to qubits {}.\".format(pegasus_2.adj[36]))"
   ]
  },
  {
   "cell_type": "markdown",
   "metadata": {},
   "source": [
    "Plot qubit 36 in bold green, the internally coupled qubits in three colors, and the oddly coupled qubit in red."
   ]
  },
  {
   "cell_type": "code",
   "execution_count": null,
   "metadata": {},
   "outputs": [],
   "source": [
    "horizontal = dnx.pegasus_graph(2, node_list=[36])\n",
    "odd = dnx.pegasus_graph(2, node_list=[37])\n",
    "green = dnx.pegasus_graph(2, node_list=[node for node in range(8, 12)])\n",
    "blue = dnx.pegasus_graph(2, node_list=[node for node in range(12, 16)])\n",
    "red = dnx.pegasus_graph(2, node_list=[6, 7, 16, 17])\n",
    "\n",
    "fig, ax = plt.subplots(1, 1, figsize=(10,10))\n",
    "\n",
    "dnx.draw_pegasus(pegasus_2, ax=ax, with_labels=True, node_size=500, node_color='y')\n",
    "dnx.draw_pegasus(horizontal, ax=ax, node_size=800, node_color='g')\n",
    "dnx.draw_pegasus(odd, ax=ax, node_color='r')\n",
    "dnx.draw_pegasus(green, ax=ax, node_color='lightgreen')\n",
    "dnx.draw_pegasus(blue, ax=ax, node_color='lightblue')\n",
    "dnx.draw_pegasus(red, ax=ax, node_color='lightcoral')"
   ]
  },
  {
   "cell_type": "markdown",
   "metadata": {},
   "source": [
    "The Pegasus coordinates of a node, $(u,w,k,z)$, can be interpreted as:\n",
    "\n",
    "* $u$: qubit orientation ($0$ is vertical, $1$ is horizontal).\n",
    "* $w$: orthogonal major offset.\n",
    "* $k$: orthogonal minor offset.\n",
    "* $z$: parallel offset.\n",
    "\n",
    "For this example of qubit 36: \n",
    "\n",
    "* $u=1$ for 36 and oddly coupled 37 because they are horizontal and $u=0$ for qubits internally coupled to qubit 36, which are vertical.\n",
    "* $w$ increases with rightward movement (the horizontal axis is orthogonal to the internally coupled qubits' vertical orientation). A shift in major offset happens between qubit 11 and 12. \n",
    "* $k$ increases with rightward movement. The minor increases with each subsequent internally coupled qubit. \n",
    "* $z$ increases with downward movement (the zero is at the top lefthand corder)."
   ]
  },
  {
   "cell_type": "code",
   "execution_count": null,
   "metadata": {},
   "outputs": [],
   "source": [
    "for i in list(blue.nodes) + list(green.nodes) + list(red.nodes) + list(odd):\n",
    "    print(\"Qubit {} has Pegasus coordinates {}.\".format(i, pegasus_2.nodes(data=True)[i]['pegasus_index']))"
   ]
  },
  {
   "cell_type": "markdown",
   "metadata": {},
   "source": [
    "You can use the conversion utility to become comfortable with these coordinates."
   ]
  },
  {
   "cell_type": "code",
   "execution_count": null,
   "metadata": {},
   "outputs": [],
   "source": [
    "coords = dnx.pegasus_coordinates(2)\n",
    "\n",
    "i = 36\n",
    "c = (1, 1, 1, 0)\n",
    "\n",
    "print(\"Qubit {} has Pegsus coordinates {}.\".format(i, coords.linear_to_pegasus(i)))\n",
    "print(\"Pegasus coordinates {} designate qubit {}.\".format(c, coords.pegasus_to_linear(c)))"
   ]
  },
  {
   "cell_type": "markdown",
   "metadata": {},
   "source": [
    "Pegasus has an additional set of \"nice\" coordinates, more compatible with Chimera addressing: $(t,y,x,u,k)$ \n",
    "\n",
    "* $0<=x<M−1$ \n",
    "* $0<=y<M−1$ \n",
    "* $0<=u<2$ \n",
    "* $0<=k<4$ \n",
    "* $0<=t<3$ \n",
    "\n",
    "For any given $0<=t0<3$, the subgraph of nodes with $t=t0$ has the structure of chimera(M-1, M-1, 4) with the addition of odd couplers.\n",
    "\n",
    "Convert qubit 36 to Pegasus nice coordinates:"
   ]
  },
  {
   "cell_type": "code",
   "execution_count": null,
   "metadata": {},
   "outputs": [],
   "source": [
    "i = 36\n",
    "\n",
    "print(\"Qubit {} has Pegsus nice coordinates {}.\".format(i, coords.linear_to_nice(i)))"
   ]
  },
  {
   "cell_type": "markdown",
   "metadata": {},
   "source": [
    "In these coordinates, it's easy to see which qubits are part of the qubit 36's (green) unit cell: \n",
    "\n",
    "* Set $t=1$ because it is $1$ for qubit 36.\n",
    "* Set $x,y=0,0$ for the same row and column.\n",
    "* Set $u=1$ for horizontal and $u=0$ for vertical qubits.\n",
    "* Iterate on $k$ for $4$ horizontal and $4$ vertical qubits. "
   ]
  },
  {
   "cell_type": "code",
   "execution_count": null,
   "metadata": {},
   "outputs": [],
   "source": [
    "green_horizontal = [(1, 0, 0, 1, k) for k in range(4)]\n",
    "green_vertical = [(1, 0, 0, 0, k) for k in range(4)]\n",
    "\n",
    "for i in green_horizontal + green_vertical:\n",
    "    print(\"Qubit {} has Pegasus nice coordinates {}.\".format(i, coords.nice_to_linear(i)))"
   ]
  },
  {
   "cell_type": "markdown",
   "metadata": {},
   "source": [
    "## Example: Manual Embedding of a 16-Qubit Problem\n",
    "Typically embedding is handled automatically by Ocean software. The purpose of this example is to gain familiarity with the Pegasus topology.\n",
    "\n",
    "The example problem is the 16-qubit system shown below, which was studied in https://www.nature.com/articles/ncomms2920, where dots are qubits with colors representing bias values and lines representing couplings (couplings weights are $-1$).\n",
    " \n",
    "<img src='images/16q_system.png'>\n",
    "\n",
    "To study the behavior od single qubits, the requirement here is to embedd the problem in a QPU with each problem qubit represented by a single physical qubit; i.e., without using chains."
   ]
  },
  {
   "cell_type": "markdown",
   "metadata": {},
   "source": [
    "### Chimera\n",
    "This problem is a perfect fit to the Chimera topology. This code cell displays one possible embedding, using qubits 0 to 15. QPUs typically do not have fabrication yields of 100% so it is not guarenteed that a particular system's working graph has all the required qubits and couplers in the first two Chimera unit cells. If not, this same embedding can be shifted to any other adjacent unit cells.    "
   ]
  },
  {
   "cell_type": "markdown",
   "metadata": {},
   "source": [
    "Start with two adjacent Chimera unit cells."
   ]
  },
  {
   "cell_type": "code",
   "execution_count": null,
   "metadata": {},
   "outputs": [],
   "source": [
    "chimera_1_2 = dnx.chimera_graph(2, node_list=[node for node in range(16)])    \n",
    "fig, ax = plt.subplots(1, 1, figsize=(10,5))\n",
    "\n",
    "dnx.draw_chimera(chimera_1_2, ax=ax, with_labels=True, node_size=500, node_color='g')"
   ]
  },
  {
   "cell_type": "markdown",
   "metadata": {},
   "source": [
    "As an exercise, the next two code cells select qubits to represent the problem's qubits. The next step will be to couple these qubits by selecting edges. \n",
    "\n",
    "<div class=\"alert alert-success\" role=\"alert\" style=\"margin: 10px\"> \n",
    "    <p><b>Exercise:</b> In the first exercise code cell below, try filling in the blue, red, and white nodes. Run the second exercise code cell to check your work. You can iterate on these two cells until you get it right.</p><p><b>Open the hidden solution code cell and run it and the second exercise code cell before continuing to subsequent cells.</b></p></div>"
   ]
  },
  {
   "cell_type": "code",
   "execution_count": null,
   "metadata": {
    "solution2": "hidden",
    "solution2_first": true
   },
   "outputs": [],
   "source": [
    "# Exercise code cell #1\n",
    "\n",
    "nodes_blue = [1, ]\n",
    "nodes_red = [0, ]\n",
    "nodes_white = [6, ]"
   ]
  },
  {
   "cell_type": "code",
   "execution_count": null,
   "metadata": {
    "solution2": "hidden"
   },
   "outputs": [],
   "source": [
    "nodes_blue = [1, 2, 5, 9, 10, 14]\n",
    "nodes_red = [0, 3, 4, 7, 8, 11, 12, 15]\n",
    "nodes_white = [6, 13]"
   ]
  },
  {
   "cell_type": "code",
   "execution_count": null,
   "metadata": {},
   "outputs": [],
   "source": [
    "# Exercise code cell #2\n",
    "\n",
    "red = dnx.chimera_graph(2, node_list=nodes_red, edge_list=[])\n",
    "blue = dnx.chimera_graph(2, node_list=nodes_blue, edge_list=[])\n",
    "white = dnx.chimera_graph(2, node_list=nodes_white, edge_list=[])\n",
    "\n",
    "fig, ax = plt.subplots(1, 1, figsize=(10,5))\n",
    "\n",
    "dnx.draw_chimera(chimera_1_2, ax=ax, with_labels=True, node_size=500, \n",
    "                 node_color='g', style='dotted')\n",
    "\n",
    "dnx.draw_chimera(red, ax=ax, node_size=500, node_color='r')\n",
    "dnx.draw_chimera(blue, ax=ax, node_size=500, node_color='b')\n",
    "dnx.draw_chimera(white, ax=ax, node_size=500, node_color='w')"
   ]
  },
  {
   "cell_type": "markdown",
   "metadata": {},
   "source": [
    "<div class=\"alert alert-success\" role=\"alert\" style=\"margin: 10px\"> <p><b>Exercise:</b> In the exercise code cell below, try filling in the edges (representing couplers) that connect the qubits. You can either directly set just the `edges` variable to a list of all needed edges or use the proposed lists that divide the nodes by color. You can iterate on these two cells until you get it right.</p><p><b>Open the hidden solution code cell and run it and the second exercise code cell before continuing to subsequent cells.</b></p></div>"
   ]
  },
  {
   "cell_type": "code",
   "execution_count": null,
   "metadata": {
    "solution2": "hidden",
    "solution2_first": true
   },
   "outputs": [],
   "source": [
    "blue_blue = [(1, 5)]\n",
    "red_blue = [(0, 5)]\n",
    "red_white= [(3, 6)]\n",
    "blue_white = [(1, 6)]\n",
    "\n",
    "edges = blue_blue + red_blue + red_white + blue_white"
   ]
  },
  {
   "cell_type": "code",
   "execution_count": null,
   "metadata": {
    "solution2": "hidden"
   },
   "outputs": [],
   "source": [
    "blue_blue = [(1, 5), (2, 5), (9, 14), (10, 14)]\n",
    "red_blue = [(0, 5), (4, 2), (7, 1), (12, 10), (11, 14), (15, 9)]\n",
    "red_white= [(3, 6), (8, 13)]\n",
    "blue_white = [(1, 6), (2, 6), (9, 13), (10, 13), (5, 13), (6, 14)]\n",
    "\n",
    "edges = blue_blue + red_blue + red_white + blue_white"
   ]
  },
  {
   "cell_type": "code",
   "execution_count": null,
   "metadata": {},
   "outputs": [],
   "source": [
    "problem_graph = dnx.chimera_graph(2, node_list=[node for node in range(16)],\n",
    "                                  edge_list=edges)    \n",
    "\n",
    "red = dnx.chimera_graph(2, node_list=nodes_red, edge_list=[])\n",
    "blue = dnx.chimera_graph(2, node_list=nodes_blue, edge_list=[])\n",
    "white = dnx.chimera_graph(2, node_list=nodes_white, edge_list=[])\n",
    "\n",
    "fig, ax = plt.subplots(1, 1, figsize=(10,5))\n",
    "\n",
    "dnx.draw_chimera(problem_graph, ax=ax, with_labels=True, \n",
    "                 node_size=500, node_color='g')\n",
    "\n",
    "dnx.draw_chimera(red, ax=ax, node_size=500, node_color='r')\n",
    "dnx.draw_chimera(blue, ax=ax, node_size=500, node_color='b')\n",
    "dnx.draw_chimera(white, ax=ax, node_size=500, node_color='w')"
   ]
  },
  {
   "cell_type": "markdown",
   "metadata": {},
   "source": [
    "Below is a [dwave-inspector](#https://docs.ocean.dwavesys.com/en/stable/docs_inspector/sdk_index.html) image of this problem embedded in a DW-2000Q QPU:\n",
    "\n",
    "<img src='images/16qubit_problem_embedding_chimera.png' width=600x>"
   ]
  },
  {
   "cell_type": "markdown",
   "metadata": {},
   "source": [
    "### Pegasus\n",
    "One approach to converting the made-for-Chimera problem is to simply map the Chimera embedding to two adjacent Chimera unit cells ($K_{4,4}$ bicliques).\n",
    "\n",
    "Above for Chimera, you started with two adjacent unit cells; now you want two adjacent $K_{4, 4}$ structures. Start by looking at the Pegasus P2 graph used earlier:"
   ]
  },
  {
   "cell_type": "code",
   "execution_count": null,
   "metadata": {},
   "outputs": [],
   "source": [
    "dnx.draw_pegasus(pegasus_2, with_labels=True, node_size=500, node_color='g')\n",
    "plt.show()"
   ]
  },
  {
   "cell_type": "markdown",
   "metadata": {},
   "source": [
    "Notice the three $K_{4,4}$ structures across the diagonal. Use two of those; for example, the middle and right ones. \n",
    "\n",
    "As an exercise, the next two code cells select qubits to represent the problem's qubits. The next step will be to couple these qubits by selecting edges. \n",
    "\n",
    "<div class=\"alert alert-success\" role=\"alert\" style=\"margin: 10px\"> \n",
    "    <p><b>Exercise:</b> In the first exercise code cell below, try filling in the blue, red, and white nodes. Run the second exercise code cell to check your work. You can iterate on these two cells until you get it right.</p><p><b>Open the hidden solution code cell and run it and the second exercise code cell before continuing to subsequent cells.</b></p></div>"
   ]
  },
  {
   "cell_type": "code",
   "execution_count": null,
   "metadata": {
    "solution2": "hidden",
    "solution2_first": true
   },
   "outputs": [],
   "source": [
    "# Exercise code cell #1\n",
    "\n",
    "nodes_blue = [1, ]\n",
    "nodes_red = [0, ]\n",
    "nodes_white = [6, ]"
   ]
  },
  {
   "cell_type": "code",
   "execution_count": null,
   "metadata": {
    "solution2": "hidden"
   },
   "outputs": [],
   "source": [
    "nodes_blue = [9, 37, 38, 14, 33, 34]\n",
    "nodes_red = [8, 11, 36, 39, 12, 15, 32, 35]\n",
    "nodes_white = [10, 13]"
   ]
  },
  {
   "cell_type": "code",
   "execution_count": null,
   "metadata": {},
   "outputs": [],
   "source": [
    "# Exercise code cell #2\n",
    "\n",
    "problem_nodes = nodes_blue + nodes_red + nodes_white\n",
    "problem_graph = dnx.pegasus_graph(2, node_list=problem_nodes)\n",
    "\n",
    "red = dnx.pegasus_graph(2, node_list=nodes_red, edge_list=[])\n",
    "blue = dnx.pegasus_graph(2, node_list=nodes_blue, edge_list=[])\n",
    "white = dnx.pegasus_graph(2, node_list=nodes_white, edge_list=[])\n",
    "\n",
    "fig, ax = plt.subplots(1, 1, figsize=(10,5))\n",
    "\n",
    "dnx.draw_pegasus(problem_graph, ax=ax, with_labels=True, node_size=500, \n",
    "                 node_color='g', style='dotted')\n",
    "\n",
    "dnx.draw_pegasus(red, ax=ax, node_size=500, node_color='r')\n",
    "dnx.draw_pegasus(blue, ax=ax, node_size=500, node_color='b')\n",
    "dnx.draw_pegasus(white, ax=ax, node_size=500, node_color='w')"
   ]
  },
  {
   "cell_type": "markdown",
   "metadata": {},
   "source": [
    "<div class=\"alert alert-success\" role=\"alert\" style=\"margin: 10px\"> <p><b>Exercise:</b> In the exercise code cell below, try filling in the edges (representing couplers) that connect the qubits. You can either directly set just the `edges` variable to a list of all needed edges or use the proposed lists that divide the nodes by color. You can iterate on these two cells until you get it right.</p><p><b>Open the hidden solution code cell and run it and the second exercise code cell before continuing to subsequent cells.</b></p></div>"
   ]
  },
  {
   "cell_type": "code",
   "execution_count": null,
   "metadata": {
    "solution2": "hidden",
    "solution2_first": true
   },
   "outputs": [],
   "source": [
    "blue_blue = [(9, 37), ]\n",
    "red_blue = [(9, 36), ]\n",
    "red_white= [(10, 39), ]\n",
    "blue_white = [(10, 37), ]\n",
    "\n",
    "edges = blue_blue + red_blue + red_white + blue_white"
   ]
  },
  {
   "cell_type": "code",
   "execution_count": null,
   "metadata": {
    "solution2": "hidden"
   },
   "outputs": [],
   "source": [
    "blue_blue = [(9, 37), (9, 38), (14, 33), (14, 34)]\n",
    "red_blue = [(9, 36), (8, 38), (11, 37), (12, 34), (14, 35), (15, 33)]\n",
    "red_white= [(10, 39), (13, 32)]\n",
    "blue_white = [(10, 37), (10, 38), (13, 33), (13, 34), (9, 13), (10, 14)]\n",
    "\n",
    "edges = blue_blue + red_blue + red_white + blue_white"
   ]
  },
  {
   "cell_type": "code",
   "execution_count": null,
   "metadata": {},
   "outputs": [],
   "source": [
    "problem_graph = dnx.pegasus_graph(2, node_list=problem_nodes,\n",
    "                                 edge_list=edges)    \n",
    "\n",
    "red = dnx.pegasus_graph(2, node_list=nodes_red, edge_list=[])\n",
    "blue = dnx.pegasus_graph(2, node_list=nodes_blue, edge_list=[])\n",
    "white = dnx.pegasus_graph(2, node_list=nodes_white, edge_list=[])\n",
    "\n",
    "fig, ax = plt.subplots(1, 1, figsize=(10,5))\n",
    "\n",
    "dnx.draw_pegasus(problem_graph, ax=ax, with_labels=True, \n",
    "                 node_size=500, node_color='g')\n",
    "\n",
    "dnx.draw_pegasus(red, ax=ax, node_size=500, node_color='r')\n",
    "dnx.draw_pegasus(blue, ax=ax, node_size=500, node_color='b')\n",
    "dnx.draw_pegasus(white, ax=ax, node_size=500, node_color='w')"
   ]
  },
  {
   "cell_type": "markdown",
   "metadata": {},
   "source": [
    "# Example Problem: RAN-K\n",
    "Some description of RAN-K problems, inc for K=1\n",
    "Note that the size fits the Chimera too"
   ]
  },
  {
   "cell_type": "markdown",
   "metadata": {},
   "source": []
  },
  {
   "cell_type": "code",
   "execution_count": null,
   "metadata": {},
   "outputs": [],
   "source": [
    "def generate_rank(k, variables, interactions, draw=True):\n",
    "    \n",
    "    G = nx.random_regular_graph(n=variables, d=interactions)\n",
    "    bqm = dimod.generators.random.ran_r(k, G)\n",
    "    \n",
    "    if draw:\n",
    "        plt.figure(figsize=(7, 7))\n",
    "        nx.draw_networkx(G, pos=nx.spring_layout(G), with_labels=False, node_size=25) \n",
    "        plt.show()\n",
    "            \n",
    "    return bqm\n",
    "\n",
    "bqm = generate_rank(7, 100, 2)"
   ]
  },
  {
   "cell_type": "markdown",
   "metadata": {},
   "source": [
    "TODO: Plot the problem"
   ]
  },
  {
   "cell_type": "markdown",
   "metadata": {},
   "source": [
    "## Solver Availability\n",
    "This subsection checks whether you have access to both generations of solvers"
   ]
  },
  {
   "cell_type": "code",
   "execution_count": null,
   "metadata": {},
   "outputs": [],
   "source": [
    "import os\n",
    "\n",
    "from dwave.system.samplers import DWaveSampler\n",
    "from dwave.cloud.exceptions import *\n",
    "\n",
    "try:\n",
    "    qpu_advantage = DWaveSampler(solver={'topology__type': 'pegasus', 'qpu': True})\n",
    "    qpu_2000q = DWaveSampler(solver={'topology__type': 'chimera', 'qpu': True})\n",
    "    \n",
    "    qpus = {'Advantage': qpu_advantage, 'DW-2000Q': qpu_2000q}\n",
    "\n",
    "    print(\"Connected to Advantage {} and 2000Q {}.\".format(qpu_advantage.solver.id, qpu_2000q.solver.id))\n",
    "except SolverNotFoundError:\n",
    "    print(\"Currently a pair of solvers are unavailable for sections comparing QPU technologies. Try those examples later.\")\n"
   ]
  },
  {
   "cell_type": "code",
   "execution_count": null,
   "metadata": {},
   "outputs": [],
   "source": [
    "from dwave.system import EmbeddingComposite\n",
    "\n",
    "samplers = {qpu: EmbeddingComposite(qpus[qpu]) for qpu in qpus}"
   ]
  },
  {
   "cell_type": "markdown",
   "metadata": {},
   "source": [
    "## Single Submission\n",
    "First, simply submit a random problem to both QPUs."
   ]
  },
  {
   "cell_type": "code",
   "execution_count": null,
   "metadata": {},
   "outputs": [],
   "source": [
    "num_reads = 5000\n",
    "\n",
    "nodes = 50\n",
    "m_edges = 40\n",
    "k = 7\n",
    "\n",
    "chain_strengths = {\"Advantage\": 25, \"DW-2000Q\": 35}   \n",
    "\n",
    "bqm = generate_rank(k, nodes, m_edges)\n",
    "    \n",
    "samplesets = {}\n",
    "for qpu in qpus:  \n",
    "    samplesets[qpu] = samplers[qpu].sample(bqm, \n",
    "                                 num_reads=num_reads,\n",
    "                                 auto_scale=True,\n",
    "                                 return_embedding=True,\n",
    "                                 chain_strength=chain_strengths[qpu],\n",
    "                                 answer_mode='raw')       "
   ]
  },
  {
   "cell_type": "markdown",
   "metadata": {},
   "source": [
    "Compare the solutions:"
   ]
  },
  {
   "cell_type": "code",
   "execution_count": null,
   "metadata": {},
   "outputs": [],
   "source": [
    "def compare_solutions(samplesets):\n",
    "    \"Print lowest and average energies.\"\n",
    "    \n",
    "    best_energies = {qpu: round(samplesets[qpu].first.energy, 3) for qpu in qpus}\n",
    "    average_energies = {qpu: round(np.average(samplesets[qpu].record.energy), 3) for qpu in qpus}\n",
    "    \n",
    "    print(\"Best energies found: {} (Advantage) and {} (DW-2000Q).\".format(best_energies[\"Advantage\"], best_energies[\"DW-2000Q\"]))\n",
    "    print(\"Average energies: {} (Advantage) and {} (DW-2000Q).\".format(average_energies[\"Advantage\"], average_energies[\"DW-2000Q\"]))\n",
    "    \n",
    "compare_solutions(samplesets)"
   ]
  },
  {
   "cell_type": "markdown",
   "metadata": {},
   "source": [
    "Analyze the embedding:"
   ]
  },
  {
   "cell_type": "code",
   "execution_count": null,
   "metadata": {},
   "outputs": [],
   "source": [
    "def compare_embeddings(samplesets):\n",
    "    \"Print chain statistics.\"\n",
    "    \n",
    "    average_chains = {qpu: round(np.average([len(chain) for chain in samplesets[qpu].info['embedding_context']['embedding'].values()]), 1) for qpu in qpus}\n",
    "    longest_chains = {qpu: round(max([len(chain) for chain in samplesets[qpu].info['embedding_context']['embedding'].values()]), 1) for qpu in qpus}\n",
    "    chain_breaks = {qpu: round(100*np.average(samplesets[qpu].record.chain_break_fraction), 1) for qpu in qpus}\n",
    "    \n",
    "    print(\"Average chain lengths: {} (Advantage) and {} (DW-2000Q).\".format(average_chains[\"Advantage\"], average_chains[\"DW-2000Q\"]))\n",
    "    print(\"Longest chains: {} (Advantage) and {} (DW-2000Q).\".format(longest_chains[\"Advantage\"], longest_chains[\"DW-2000Q\"]))\n",
    "    print(\"Average chain breaks percentage: {} (Advantage) and {} (DW-2000Q).\".format(chain_breaks[\"Advantage\"], chain_breaks[\"DW-2000Q\"]))\n",
    "    \n",
    "compare_embeddings(samplesets)"
   ]
  },
  {
   "cell_type": "code",
   "execution_count": null,
   "metadata": {},
   "outputs": [],
   "source": [
    "num_bins = 100\n",
    "\n",
    "energy_advantage = samplesets['Advantage'].record.energy\n",
    "energy_2000q = samplesets['DW-2000Q'].record.energy\n",
    "\n",
    "bins=np.histogram(np.hstack((energy_advantage, energy_2000q)), bins=num_bins)[1]\n",
    "\n",
    "fig = plt.figure()\n",
    "ax = fig.add_subplot(1, 1, 1)\n",
    "\n",
    "ax.hist(energy_advantage, bins, color='b', alpha=0.4, label='Advantage')\n",
    "ax.hist(energy_2000q, bins, color='g', alpha=0.4, label='DW-2000Q')\n",
    "\n",
    "\n",
    "ax.set_xlabel(\"Energy\")\n",
    "ax.set_ylabel(\"Samples\")\n",
    "ax.legend()"
   ]
  },
  {
   "cell_type": "markdown",
   "metadata": {},
   "source": [
    "For a random problem embedded heuristically, the Advantage is likely but not certain to produce better results. \n",
    "\n",
    "## Multiple Submissions"
   ]
  },
  {
   "cell_type": "markdown",
   "metadata": {},
   "source": [
    "\n",
    "The figure below shows a histogram for naively combining results of a large number (fifty) of similar problems: RAN-7 random values assigned to the edges of a randomly generated `nx.random_regular_graph()` graphs of 50 nodes and 40 edges each. \n",
    "\n",
    "<img src=\"images/ran7_50problems.png\" width=500x/>\n",
    "\n",
    "Such a combined histogram is not a statistically meaningful measure. However, because the problems are large and returned solutions similar (about 10% variance in range), it does capture in essence the impression given by looking at plots of all fifty solutions. Below are the first five of the fifty:\n",
    "\n",
    "<img src=\"images/ran7_50problems_first5.png\" width=600x/>"
   ]
  },
  {
   "cell_type": "markdown",
   "metadata": {},
   "source": [
    "To get a feel for the differences, try playing with chain strength between the two chips, the values of k, and the problem size "
   ]
  },
  {
   "cell_type": "code",
   "execution_count": null,
   "metadata": {},
   "outputs": [],
   "source": [
    "from helpers.draw import histogram_energies\n",
    "import pandas as pd\n",
    "\n",
    "num_reads = 5000\n",
    "num_problems = 5\n",
    "\n",
    "nodes = 50\n",
    "m_edges = 40\n",
    "k = 7\n",
    "\n",
    "chain_strengths = {\"Advantage\": 25, \"DW-2000Q\": 35}   \n",
    "\n",
    "draw_flag = True\n",
    "for i in range(num_problems):\n",
    "\n",
    "    print(\"\\nProblem {}\".format(i+1))\n",
    "   \n",
    "    bqm = generate_rank(k, nodes, m_edges, draw=draw_flag)\n",
    "    draw_flag = False # Comment this line to plot each problem\n",
    "       \n",
    "    samplesets = {}\n",
    "    for qpu in qpus:  \n",
    "            samplesets[qpu] = samplers[qpu].sample(bqm, \n",
    "                                 num_reads=num_reads,\n",
    "                                 auto_scale=True,\n",
    "                                 return_embedding=True,\n",
    "                                 chain_strength=chain_strengths[qpu],\n",
    "                                 answer_mode='raw')  \n",
    "    \n",
    "    compare_solutions(samplesets)\n",
    "    compare_embeddings(samplesets)\n",
    "    histogram_energies(samplesets)"
   ]
  },
  {
   "cell_type": "markdown",
   "metadata": {},
   "source": [
    "Copyright &copy; D-Wave Systems Inc."
   ]
  }
 ],
 "metadata": {
  "kernelspec": {
   "display_name": "Python 3",
   "language": "python",
   "name": "python3"
  },
  "language_info": {
   "codemirror_mode": {
    "name": "ipython",
    "version": 3
   },
   "file_extension": ".py",
   "mimetype": "text/x-python",
   "name": "python",
   "nbconvert_exporter": "python",
   "pygments_lexer": "ipython3",
   "version": "3.6.7"
  },
  "toc": {
   "base_numbering": "1",
   "nav_menu": {},
   "number_sections": false,
   "sideBar": true,
   "skip_h1_title": false,
   "title_cell": "Table of Contents",
   "title_sidebar": "Contents",
   "toc_cell": false,
   "toc_position": {
    "height": "calc(100% - 180px)",
    "left": "10px",
    "top": "150px",
    "width": "229px"
   },
   "toc_section_display": true,
   "toc_window_display": true
  }
 },
 "nbformat": 4,
 "nbformat_minor": 2
}
